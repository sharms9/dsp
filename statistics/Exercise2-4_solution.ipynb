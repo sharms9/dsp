{
 "cells": [
  {
   "cell_type": "code",
   "execution_count": 41,
   "metadata": {
    "collapsed": false
   },
   "outputs": [],
   "source": [
    "# Swati Sharma, Exercise 2-4\n",
    "\n",
    "import math\n",
    "import nsfg\n",
    "import thinkstats2\n",
    "import thinkplot\n"
   ]
  },
  {
   "cell_type": "code",
   "execution_count": 42,
   "metadata": {
    "collapsed": false
   },
   "outputs": [],
   "source": [
    "preg = nsfg.ReadFemPreg()\n",
    "live = preg[preg.outcome == 1]"
   ]
  },
  {
   "cell_type": "code",
   "execution_count": 43,
   "metadata": {
    "collapsed": false
   },
   "outputs": [
    {
     "data": {
      "image/png": "[encoded data removed]",
      "text/plain": [
       "<matplotlib.figure.Figure at 0x11cc50f50>"
      ]
     },
     "metadata": {},
     "output_type": "display_data"
    },
    {
     "data": {
      "text/plain": [
       "<matplotlib.figure.Figure at 0x11cc57610>"
      ]
     },
     "metadata": {},
     "output_type": "display_data"
    }
   ],
   "source": [
    "hist = thinkstats2.Hist(live.birthwgt_lb, label = 'birthwgt_lb')\n",
    "thinkplot.Hist(hist)\n",
    "thinkplot.Show(xlabel = 'pounds', ylabel = 'frequency')\n"
   ]
  },
  {
   "cell_type": "code",
   "execution_count": 44,
   "metadata": {
    "collapsed": true
   },
   "outputs": [],
   "source": [
    "# Plot histogram of frequency of birth weight (in pounds)"
   ]
  },
  {
   "cell_type": "code",
   "execution_count": 45,
   "metadata": {
    "collapsed": true
   },
   "outputs": [],
   "source": [
    "firsts = live[live.birthord == 1]\n",
    "others = live[live.birthord != 1]"
   ]
  },
  {
   "cell_type": "code",
   "execution_count": 46,
   "metadata": {
    "collapsed": true
   },
   "outputs": [],
   "source": [
    "# Cohen's d is used to convey the size of an effect by comparing the difference between the two groups to the\n",
    "# variability within groups\n",
    "\n",
    "# Cohen's d is symobolized by d\n",
    "\n",
    "# d = (mean_group1 - mean_group2) / s\n",
    "# s = pooled standard deviation"
   ]
  },
  {
   "cell_type": "code",
   "execution_count": 47,
   "metadata": {
    "collapsed": false
   },
   "outputs": [
    {
     "name": "stdout",
     "output_type": "stream",
     "text": [
      "Mean weight of first child = 7.20109443044 lbs.\n",
      "Mean weight of others = 7.32585561497 lbs.\n"
     ]
    }
   ],
   "source": [
    "m_firsts = firsts.totalwgt_lb.mean()\n",
    "print 'Mean weight of first child =', m_firsts, 'lbs.'\n",
    "m_others = others.totalwgt_lb.mean()\n",
    "print 'Mean weight of others =', m_others, 'lbs.'"
   ]
  },
  {
   "cell_type": "code",
   "execution_count": 48,
   "metadata": {
    "collapsed": false
   },
   "outputs": [],
   "source": [
    "diff = m_firsts - m_others\n",
    "# print diff"
   ]
  },
  {
   "cell_type": "code",
   "execution_count": 49,
   "metadata": {
    "collapsed": false
   },
   "outputs": [],
   "source": [
    "var1 = firsts.totalwgt_lb.var()\n",
    "# print var1\n",
    "var2 = others.totalwgt_lb.var()\n",
    "# print var2"
   ]
  },
  {
   "cell_type": "code",
   "execution_count": 50,
   "metadata": {
    "collapsed": false
   },
   "outputs": [],
   "source": [
    "n1 = len(firsts.totalwgt_lb)\n",
    "# print n1\n",
    "n2 = len(others.totalwgt_lb)\n",
    "# print n2"
   ]
  },
  {
   "cell_type": "code",
   "execution_count": 51,
   "metadata": {
    "collapsed": false
   },
   "outputs": [],
   "source": [
    "pooled_var = (n1 * var1 + n2 *var2) / (n1 + n2)\n",
    "# print pooled_var"
   ]
  },
  {
   "cell_type": "code",
   "execution_count": 52,
   "metadata": {
    "collapsed": false
   },
   "outputs": [
    {
     "name": "stdout",
     "output_type": "stream",
     "text": [
      "Cohen's d, d = -0.0886729270726\n"
     ]
    }
   ],
   "source": [
    "d = diff / math.sqrt(pooled_var)\n",
    "print \"Cohen's d, d =\",d"
   ]
  },
  {
   "cell_type": "code",
   "execution_count": 53,
   "metadata": {
    "collapsed": true
   },
   "outputs": [],
   "source": [
    "# We found that d = -0.0889.  The negative value means that there was a mean increase from weight of first born to\n",
    "# weight of subsequent children.  The mean weight of subsequent children born is greater than the weight of the first\n",
    "# born."
   ]
  },
  {
   "cell_type": "code",
   "execution_count": 54,
   "metadata": {
    "collapsed": true
   },
   "outputs": [],
   "source": [
    "# Now we look at the difference in pregnancy length and compare this data with the Cohen's d value just calculated."
   ]
  },
  {
   "cell_type": "code",
   "execution_count": 62,
   "metadata": {
    "collapsed": false
   },
   "outputs": [
    {
     "name": "stdout",
     "output_type": "stream",
     "text": [
      "Mean pregnancy length for first born = 38.6009517335 weeks.\n",
      "Mean pregnancy length for subsequent births = 38.5229144667 weeks.\n"
     ]
    }
   ],
   "source": [
    "fplngth = firsts.prglngth.mean()\n",
    "print 'Mean pregnancy length for first born =', fplngth, 'weeks.'\n",
    "\n",
    "oplngth = others.prglngth.mean()\n",
    "print 'Mean pregnancy length for subsequent births =', oplngth, 'weeks.'"
   ]
  },
  {
   "cell_type": "code",
   "execution_count": 64,
   "metadata": {
    "collapsed": false
   },
   "outputs": [],
   "source": [
    "diff = fplngth - oplngth\n",
    "#print diff"
   ]
  },
  {
   "cell_type": "code",
   "execution_count": 67,
   "metadata": {
    "collapsed": false
   },
   "outputs": [],
   "source": [
    "var1 = firsts.prglngth.var()\n",
    "# print var1\n",
    "var2 = others.prglngth.var()\n",
    "# print var2"
   ]
  },
  {
   "cell_type": "code",
   "execution_count": 69,
   "metadata": {
    "collapsed": false
   },
   "outputs": [],
   "source": [
    "n1 = len(firsts.prglngth)\n",
    "# print n1\n",
    "n2 = len(others.prglngth)\n",
    "# print n2"
   ]
  },
  {
   "cell_type": "code",
   "execution_count": 70,
   "metadata": {
    "collapsed": false
   },
   "outputs": [
    {
     "name": "stdout",
     "output_type": "stream",
     "text": [
      "7.30194328598\n"
     ]
    }
   ],
   "source": [
    "pooled_var = (n1 * var1 + n2 *var2) / (n1 + n2)\n",
    "print pooled_var"
   ]
  },
  {
   "cell_type": "code",
   "execution_count": 71,
   "metadata": {
    "collapsed": false
   },
   "outputs": [
    {
     "name": "stdout",
     "output_type": "stream",
     "text": [
      "Cohen's d, d = 0.0288790446544\n"
     ]
    }
   ],
   "source": [
    "d = diff / math.sqrt(pooled_var)\n",
    "print \"Cohen's d, d =\",d"
   ]
  },
  {
   "cell_type": "code",
   "execution_count": 73,
   "metadata": {
    "collapsed": true
   },
   "outputs": [],
   "source": [
    "# The Cohen's d is = 0.0289.  The mean pregnancy length for the first born is greater than for subsequent children."
   ]
  },
  {
   "cell_type": "code",
   "execution_count": 74,
   "metadata": {
    "collapsed": true
   },
   "outputs": [],
   "source": [
    "# The Cohen's d for total weight (comparison of first and subsequent births) is -0.0889 and for pregnancy lengths\n",
    "# (for first and subsequent births) is 0.0289.  Mean weight for subsequent births is greater than for first borns.\n",
    "# However, mean pregnancy length for the first born is greater than for subsequent births.  Essentially, first borns\n",
    "# typically weigh less and the mother has a longer pregnancy.  Other children born typically weigh more and the mother\n",
    "# has a shorter pregnancy."
   ]
  },
  {
   "cell_type": "code",
   "execution_count": null,
   "metadata": {
    "collapsed": true
   },
   "outputs": [],
   "source": []
  }
 ],
 "metadata": {
  "kernelspec": {
   "display_name": "Python 2",
   "language": "python",
   "name": "python2"
  },
  "language_info": {
   "codemirror_mode": {
    "name": "ipython",
    "version": 2
   },
   "file_extension": ".py",
   "mimetype": "text/x-python",
   "name": "python",
   "nbconvert_exporter": "python",
   "pygments_lexer": "ipython2",
   "version": "2.7.11"
  }
 },
 "nbformat": 4,
 "nbformat_minor": 0
}
