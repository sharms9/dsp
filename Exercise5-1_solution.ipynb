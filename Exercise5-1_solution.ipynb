{
 "cells": [
  {
   "cell_type": "markdown",
   "metadata": {
    "collapsed": true
   },
   "source": [
    "Swati Sharma\n",
    "\n",
    "Chapter 5, Excercise 1"
   ]
  },
  {
   "cell_type": "code",
   "execution_count": 10,
   "metadata": {
    "collapsed": false
   },
   "outputs": [],
   "source": [
    "#Import scipy libraries\n",
    "import scipy.stats\n",
    "%matplotlib inline"
   ]
  },
  {
   "cell_type": "code",
   "execution_count": 11,
   "metadata": {
    "collapsed": true
   },
   "outputs": [],
   "source": [
    "#Given values from text, only concerned about males in this problem\n",
    "mu = 178 #Mean\n",
    "sigma = 7.7 #Std Deviation\n",
    "#Distribution based off given values of mu and sigma...\n",
    "distribution = scipy.stats.norm(loc=mu, scale=sigma)"
   ]
  },
  {
   "cell_type": "code",
   "execution_count": 12,
   "metadata": {
    "collapsed": false
   },
   "outputs": [
    {
     "name": "stdout",
     "output_type": "stream",
     "text": [
      "178.0\n",
      "7.7\n"
     ]
    }
   ],
   "source": [
    "#Confirm the value of mean and value of one standard deviation...\n",
    "print distribution.mean()\n",
    "print distribution.std()"
   ]
  },
  {
   "cell_type": "code",
   "execution_count": 13,
   "metadata": {
    "collapsed": false
   },
   "outputs": [
    {
     "name": "stdout",
     "output_type": "stream",
     "text": [
      "0.158655253931\n"
     ]
    }
   ],
   "source": [
    "#Question is asking how many males are between 5'10\" and 6'1\"... so first what percentage are below one std deviation...\n",
    "print distribution.cdf(mu-sigma)"
   ]
  },
  {
   "cell_type": "code",
   "execution_count": 14,
   "metadata": {
    "collapsed": false
   },
   "outputs": [
    {
     "name": "stdout",
     "output_type": "stream",
     "text": [
      "0.489639027865\n"
     ]
    }
   ],
   "source": [
    "#On the shorter end (5'10\") we have....\n",
    "print distribution.cdf(177.8)"
   ]
  },
  {
   "cell_type": "code",
   "execution_count": 15,
   "metadata": {
    "collapsed": false
   },
   "outputs": [
    {
     "name": "stdout",
     "output_type": "stream",
     "text": [
      "0.831733710811\n"
     ]
    }
   ],
   "source": [
    "#On the taller end (6'1\") we have...\n",
    "print distribution.cdf(185.4)"
   ]
  },
  {
   "cell_type": "code",
   "execution_count": 16,
   "metadata": {
    "collapsed": false
   },
   "outputs": [
    {
     "name": "stdout",
     "output_type": "stream",
     "text": [
      "34.2094682946\n"
     ]
    }
   ],
   "source": [
    "#Therefore we can say...\n",
    "print (distribution.cdf(185.4)-distribution.cdf(177.8))*100"
   ]
  },
  {
   "cell_type": "markdown",
   "metadata": {},
   "source": [
    "34.21 % are within 5'10\" and 6'1\""
   ]
  },
  {
   "cell_type": "code",
   "execution_count": null,
   "metadata": {
    "collapsed": true
   },
   "outputs": [],
   "source": []
  }
 ],
 "metadata": {
  "anaconda-cloud": {},
  "kernelspec": {
   "display_name": "Python 2",
   "language": "python",
   "name": "python2"
  },
  "language_info": {
   "codemirror_mode": {
    "name": "ipython",
    "version": 2
   },
   "file_extension": ".py",
   "mimetype": "text/x-python",
   "name": "python",
   "nbconvert_exporter": "python",
   "pygments_lexer": "ipython2",
   "version": "2.7.12"
  }
 },
 "nbformat": 4,
 "nbformat_minor": 0
}
